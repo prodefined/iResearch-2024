{
 "cells": [
  {
   "cell_type": "markdown",
   "metadata": {},
   "source": [
    "Imports"
   ]
  },
  {
   "cell_type": "code",
   "execution_count": 2,
   "metadata": {},
   "outputs": [
    {
     "name": "stderr",
     "output_type": "stream",
     "text": [
      "/home/rodoggx/iResearch-2024/venv/lib/python3.10/site-packages/tqdm/auto.py:21: TqdmWarning: IProgress not found. Please update jupyter and ipywidgets. See https://ipywidgets.readthedocs.io/en/stable/user_install.html\n",
      "  from .autonotebook import tqdm as notebook_tqdm\n"
     ]
    }
   ],
   "source": [
    "import torch\n",
    "from transformers import AutoModelForSpeechSeq2Seq, AutoProcessor, pipeline\n",
    "from datasets import load_dataset\n",
    "from os import chdir, remove, close, listdir, path\n",
    "from pydub import AudioSegment \n"
   ]
  },
  {
   "cell_type": "code",
   "execution_count": null,
   "metadata": {
    "vscode": {
     "languageId": "powershell"
    }
   },
   "outputs": [],
   "source": [
    "# https://archive.liveatc.net/kjfk/KJFK-Twr-Jun-24-2024-0000Z.mp3\n",
    "\n",
    "$baseUrl = \"https://archive.liveatc.net/kjfk/KJFK-Twr-Jun-24-2024-\"\n",
    "\n",
    "# Initialize time as a string\n",
    "$time = \"0000\"\n",
    "\n",
    "$client = New-Object System.Net.WebClient\n",
    "\n",
    "# Loop until time is less than 24 hours\n",
    "while ($time -ne \"2330\") {\n",
    "\t$url = $baseUrl + $time + \"Z.mp3\"\n",
    "\n",
    "\tWrite-Output \"Downloading $url\"\n",
    "\n",
    "\ttry {\n",
    "\t\t# Download the file\n",
    "\t\t$client.DownloadFile($url, \"/home/rodoggx/iResearch-2024/ATC-recordings/KJFK-Twr-Jun-24-2024-\" + $time + \"Z.mp3\")\n",
    "\t} catch {\n",
    "\t\tWrite-Output \"File not found\"\n",
    "\t}\n",
    "    # Convert string to DateTime object for easy manipulation\n",
    "    $timeObject = [DateTime]::ParseExact($time, \"HHmm\", $null)\n",
    "\n",
    "    # Add 30 minutes\n",
    "    $timeObject = $timeObject.AddMinutes(30)\n",
    "\n",
    "    # Convert DateTime object back to string\n",
    "    $time = $timeObject.ToString(\"HHmm\")\n",
    "}"
   ]
  },
  {
   "cell_type": "code",
   "execution_count": 6,
   "metadata": {},
   "outputs": [],
   "source": [
    "chdir(\"/home/rodoggx/iResearch-2024/ATC-recordings\")\n",
    "for foo in listdir():\n",
    "    input_file = foo\n",
    "    output_file = foo.rsplit('.', 1)[0] + '.wav'\n",
    "\n",
    "    # convert mp3 file to wav file \n",
    "    sound = AudioSegment.from_mp3(input_file) \n",
    "    sound.export(output_file, format=\"wav\")\n",
    "    \n",
    "    remove(foo)"
   ]
  },
  {
   "cell_type": "code",
   "execution_count": 4,
   "metadata": {},
   "outputs": [
    {
     "name": "stderr",
     "output_type": "stream",
     "text": [
      "Special tokens have been added in the vocabulary, make sure the associated word embeddings are fine-tuned or trained.\n",
      "/home/rodoggx/iResearch-2024/venv/lib/python3.10/site-packages/transformers/models/whisper/generation_whisper.py:480: FutureWarning: The input name `inputs` is deprecated. Please make sure to use `input_features` instead.\n",
      "  warnings.warn(\n"
     ]
    },
    {
     "name": "stdout",
     "output_type": "stream",
     "text": [
      "KJFK-Twr-Jun-24-2024-0830Z.mp3.wav\n",
      "{'text': \" you you JetBlue 1823, new, departure 125.7 25.7, good day, JetBlue 1823 And Ram, good morning. JetBlue 1114 is with you coming up on Bravo, making the turnaround for gate 29. That was a beautiful message, but it's just stuck in me, Tom. Oh, sorry about that. you you you you Well, there's a piece of left bubble in the chair. you you you you you you you you you you you you you you you ... ... Tower, Chibblew 782 is just outside Salpo for 22L. Chibblew 782, Canadian Tower, 1250, I'm 90, runway 22L, settle in. Atlanta to left, it was 7-8-2. you you you you you Roger, 7-82, Hotel, across to your right, what's the gate number? IAT ramp. We have to enter Gulf, I should have said that, Gulf, IAT ramp, JetBlue, 7-82. Roger, JetBlue, 7-82, right on Bravo with me. Alright, Hotel, across to your right, right on Bravo with you, JetBlue, 7-82. you 2348, I left, 22 left, morning. 2348, 28,000, morning, 124, GRI, 9-0, 122 left, clear to land. Clear to land, 22 left, 2348. you Thank you. at IAT ramp and they wanted us to hold short of golf. Is this fine right here? They said just for a minute or two. No, double back up Fox, Sean to Alpha and then you can hold short of golf. Alright, double back on Fox and then double back on Alpha, hold short of golf, 787-782. Tower, Gatay, Caribbean lines 520, final 22L Caribbean 520, Gatay, wind 240 at 90, runway 22L, cleared to land Gatay, runway 22L, Caribbean lines 520 Thank you. Hello Tower, JetBlue 1190, we're 12 out, ILS 22L. JetBlue 1190, coming down, hello, 1240 on 9-0, runway 22L, cleared to land. Cleared to land, 22L, JetBlue 1190. you Thank you. JetBlue 2348 Juliet cross runway 22R right on B to your land Juliet cross 22R right on B to the ramp, JetBlue 2348 Kennedy Tower good morning, L226 heavy, winds your ILS 22L 1226, heavy, can you tell us the morning 1240 at 9 and 1122 left for the land? 1122 left, 12227. you We're in 520 right, Juliet. Cross runway 22 right and right on Bravo to your left. Right onto the head cross to the right, right onto Roswell, turn around and turn around. you you ... ... 10-10-L, confirmation, X-ray, turn to Kennedy Altimeter, 29-05-7 Blue 11-90, right Juliet, cross runway 22R, right on Bravo to the ramp Alright, right Juliet, cross 22R, right Bravo to the ramp, JetBlue 11-90 you Good morning, this is Pablo Salamanales. Runway 42, getting in touch, good morning, 6,000 miles on show, the heavy burn 76, fashion turbulence 1240 on minor, and 22 left for the home. Runway, this is left Carolina, I'm on cause, your fortune. On the outside, 20. Andiok, KVL 520 Yes KVL 520, how can I help you? Ok, just letting you know that we are holding this position and company 527 is coming out and then we get beyond permission to talk to you Caribbean 527 continue B left Fox shot L Alpha hold short of G Ok standby I'll 45 to standby No it's not standby do it in seconds B left Fox shot L Alpha hold short of G, Caribbean 520 B left Fox shot L Alpha, command 520 Bravo 226 Heavy, cross runway 22R Juliet, what's the gate number? Cross 22R Juliet, Bravo 22 Roger, straight on Alpha for you Straight Alpha, Delta 226 ... ... That's incorrect, Crosstown with 31R at Echo, Caribbean 527 Giant 555 Heavy, ILS 22L Giant 555 Heavy, Canadian Tower, 124J, Niner, runway 22L, cleared to land Clear to land 22L, Giant 555 Heavy Where are you parking today, Quebec 4? We're going to building 73 73, okay you Thank you. Right on Bravo, to your left. Roger, Avianca 042, cross runway 22R, join Juliet, Bravo, 0. Caribbean 527, switch to 119.1 and advise ready for departure. you you Thank you.\"}\n",
      "\n",
      "----------------------------------------------------------\n",
      "\n"
     ]
    },
    {
     "name": "stderr",
     "output_type": "stream",
     "text": [
      "/home/rodoggx/iResearch-2024/venv/lib/python3.10/site-packages/transformers/models/whisper/generation_whisper.py:480: FutureWarning: The input name `inputs` is deprecated. Please make sure to use `input_features` instead.\n",
      "  warnings.warn(\n"
     ]
    },
    {
     "name": "stdout",
     "output_type": "stream",
     "text": [
      "KJFK-Twr-Jun-24-2024-2100Z.mp3.wav\n",
      "{'text': \" JetBlue 784. JetBlue 784, at Alpha 4, join Alpha to the ramp and monitor ground. All right, at Alpha 4, we'll join Alpha to the ramp, monitor ground, JetBlue 784. Kennedy Tower, helicopter 3, Bravo Lima, Governor's Island 800, Park conduit GAT. Helicopter 3, Bravo Lima, Kennedy Tower, Sparks 0331, cleared as requested, EW1000, speak. 0331, cleared as requested, EW1000, 3, Bravo Lima. you ... ... ... ... ... ... ... ... ... ... ... ... ... ... Yep, we're short 58.02, monitor ground point 9. Monitor ground point 9, Texas, stand by for the day. Thank you. Out of the blue is 5-7-0, 7-7-0-11 Tower, for 7-7-7, just a quick update, I'll descend as soon as I get just on the west side of these fields, right in front of me Say again please? I'll be descending in like one mile, 7-0-11 I said 11 Bravo heavy exit left taxi left on Bravo this frequency Left on Bravo remain your frequency at 11 Bravo Alpha 4, left on Alpha, 11 Bravo. Hey Bravo Lima landing, hold the code. Great Bravo Lima thanks, wind 330 at 21 gusts 29, cleared to change the approach. Talking to base. Okay, tower Alaska 24, 310R. Alaska 24, Kennedy tower wind 330 at 21 gusts 29, runway 309, cleared to land. Delta 289 heavy, left out Whiskey, left on Alpha, monitor ground 0.9. Whiskey, Alpha, monitor 0.9, Delta 289 heavy. Good afternoon, Delta. Delta's 265 heavy, just outside of Maldy. Delta's 265 heavy, Kennedy. Sound 132020, that's 291 right, 309, little end. 301 right, little end, Delta's 265 heavy. Kennedy Tower, American 2246, ILS 31R. Magnus 2246, Kennedy, CAF on heavy A330, course of wake-tribe, you on friend-wake-3 and I, good-bye. Little Island 21R, cost of wake-tribe, you on the Magnus 2246. . JetBlue 2824 JetBlue 2824 let me know what entry point you have please We'll let you know, probably be FOX. We'll let you know JetBlue 2824 Power 777, request an acclimatization when able. Tennis Tower, helicopter 777, do you have us? Go ahead. Yes ma'am, looking for 1000 when able. Yeah, when able. ... 2824, that'd be a clock entry. 2824, please join Alpha at taxiway Delta Alpha. Alpha at Delta Alpha. ... 34, exit to the left, taxiway ramp, remain the frequency, give way to Aer Lingus. Aer Lingus. Air Lingus, left, stand with you, remaining with you, left. And New York, Kennedy Tower, Delta 383, 311. Delta 383, Kennedy Tower, 1320 at 2-1, gust 29, runway 3 on right, little 9. Little 9, 311, right, Delta 383. Tower, Delta 620, 311, right. Delta 620, Kennedy, Tower 1320 at 2-0, Delta 29, runway 309, set alight. 31R cleared to land, Delta 620. Tower, 1359, this is Tower Romeo, 31R. Greenheart 9, Hotel Romeo, heavy, Kennedy, Tower 1330 at 1-9, Delta 29, runway 309, set alight. 31R, 259, this is Tower Romeo, heavy. ... ... ... Delta 265 Heavy, exit to the left, taxi Bravo to the ramp this frequency for now. Exit left, Bravo to the ramp with you, Delta 265 Heavy. Thank you. We'll ramp mono to ground point nine. Alpha four alpha to the ramp at point nine. Two sixty five, heavy duty. you Thank you. Thank you. Cover to the right, what's your American 22-42? Delta 620, what's your airspeed? We're reading about 142 right now, Audrey. Roger. Tower, Delta 231 Heavy is listening to intercepting the ILS 31R. Delta 231 heavy, Kennedy Tower, 1330 at 19, just 2-8 runway, 3-1 right, fiddling. 3-1 right, through the land, Delta 231 heavy. Kennedy Tower, helicopter 777Z, have a look at this, check out with me. 777Z, this is Kennedy Tower, 10 miles to the northwest of the terminate spot, Delta 383, left on Alpha after the first Alaska, monitor ground 0.9. Delta 383, left on Alpha after the first Alaska, monitor ground 0.9. you Delta 1166, that 5 is going to have to have the A330 or calling. He's on site, Delta 1166. Delta 1166, thank you for the separation with that breath. Delta 1166. Delta 620, taxi Bravo to the ramp with frequency for now. Prophet with ramp with you, Delta 620. Delta 620, join Alpha, please steer ramp at taxiway Delta Alpha and monitor ground on point nine. Delta Alpha, join Alpha and monitor ground point nine or Delta 620. Green Heart 9, Hotel Romeo heavy, exit through left taxi to the ramp at frequency Last, West around West City, Green Heart 9, Hotel Romeo heavy Tower, Air Transport 3320, ILS 313 Trans 433, Tony, heavy Kennedy, Cal, 1320, 19, just 26, runway, scenario, next, Cotillan. Cotillan, 31R, Trans 433, Tony. Delta 2398, advise me to have the heavy A330 to follow in sight. In sight, Delta 2398. Delta 2398, maintain for separation of dead traffic. Will go, Delta 2398. Okay, tower, Jumper 1668, you're coming down. ILS, V1 right. Jumper 1668, Kennedy Tower, final 7-6. Go ahead. Wind turbulence in 320 at 18526, enable lights, you know when you have the traffic in sight. Traffic in sight, Jumper 1668. Jumper 1668, maintain visual separation with high traffic, runway 309, to the land. V1 right, to the land, visual separation, Jumper 1668. Delta 1166 exit to the left, left Bravo this frequency. Left Bravo with you, Delta 1166. you Alpha 1166, join Alpha at Alpha 4, please monitor ground point 9. Join Alpha at Alpha 4 and we'll monitor ground. You want us going left? I'm sorry, where's the last part? On Alpha, we're going to turn left on Alpha. Well, the same direction you're going. Just checking, thanks. Delta 231 heavy, exit left taxi left on Bravo this frequency. Left left on Bravo stay with me, Delta 231. Kennedy Tower, helicopter, 3ABG, you ready to go, Congolese Park, check out. 3ABG, looking to GAC, got your own risk, air is not visible from the tower, Kennedy, altimeter 2965, you're crossing multiple, so departing Kennedy, off runway 3L. As a point, 3ABG. you ... ... ... ... ... ... ... Kennedy Tower, good day Turkish 1 heavy, climb high speed 170. Good night, Delta 231 heavy. Delta Tower, Endeavour 5042 will be on the I-Lift with 31R. Turkish 1 heavy, Kennedy Tower, 1320 at 22 gust 27 runway 31R, settle in. Cleared to land, runway 31R, 1231Heavy Scandinavian 915, Kennedy, tariff on 777, crossing runway Cardinal, runway 31R, good to land Land, crossing runway Cardinal, 31R, Scandinavian 915 Delta 231Heavy Go ahead, 231Heavy Hi again, Delta 231Heavy, right Delta Alpha, left on Alpha, clear ramp, and then monitor ground point up Right Delta Alpha, Alpha, then switch ramp for Delta 231 Delta 2398, left at Whiskey, left on Alpha, tier rank just monitored, ground point 9. Left Whiskey, left Alpha, monitor point 9, Delta 2398. Delta 5042, when 320 at 23, that's 31, you're following a triple stretch and you're following an A321, runway 31R, Settling. Settling at 31R, Delta 5042. you Transport 33, 20 heavy, exit via WISC-WISC Yeah, next day on Wistia, Wistia, Air 2433, 23. Air 2433, 23, heavy, taxi via Bravo, November, and Quebec. Okay, taxi via Bravo, November, and Quebec, Air 2433, 23, heavy. Thank you. 8 miles to the northwest, thanks for coming to spot VFR and C-10 through. VFR, I probably must. Tower Delta 1406 with you, ILS 31R. Delta 1658, left Bravo to the ramp at frequency Left Bravo with you to the ramp, Delta 1658 Delta 1406, Kennedy, dial 13202, 4GUS311, land 309, set to land 311, clear to land, Delta 1406 Delta 1658, let me know what entry point you have, please Roger Tower, Delta 425, with you, ILS 3-1-ray, speed 170. Delta 425, Kennedy Tower, 1330, ILS 3-2-3, that's 3-1-ray, 3-1-ray, set on. 3-1-ray, cleared to land, Delta 425, you need a speed, promise? Whatever New York approach, David. Sounds good, Delta 425. Kennedy Approach, Corsi 35, Hotel Park Track, National College, see you. Check your frequency, this is Kennedy 10 That's what I'm looking for, Kennedy looking for the track riding northbound Alright, well you called me a pro so say your call time again 3-5, Hotel Foxtrot, my mistake 3-5, Hotel Foxtrot, Kennedy Carousel, 0-3-0-5, you're cleared of the Kennedy cross-rover, take that to below 500 feet, Kennedy, I'll come to you 29-6-5 2965, Attaboy 500, track grabbing left Circus 1 Heavy, taxi via Bravo, clear ramp Taxi to Bravo, to the gate, Pro, Kichis, 3, 1, Romeo JetBlue 1668, did they tell you where you're parking at? We're calling out JetBlue 1668 We're cleared in Delta after the outbound traffic comes out. Okay, JetBlue 1668. Roger, just hold short of taxiway Delta and let me know whenever you're fully cleared. All right, hold short of Delta. 35HF, are you ready to contact the community? 35HF, roger. you you Scandinavian 915, left Whiskey Whiskey Bravo clear in. Whiskey Whiskey Bravo to the ramp, Scandinavian 915, thank you. Tower, JetBlue 415, I left your own right. JetBlue 415, Kennedy Tower, 1330, out. 20 August 31, runway 31, right, clear to land. All right, clear to land, JetBlue 415. Yep Yep And Navy 915 monitor ground 121.9 Monitor ground 121.9, 10-9, clear for incident Tower, JetBlue 1668, we're cleared at now JetBlue 1668, right in here, taxi to the right Right turn on south-east, right Thank you.\"}\n",
      "\n",
      "----------------------------------------------------------\n",
      "\n"
     ]
    },
    {
     "name": "stderr",
     "output_type": "stream",
     "text": [
      "/home/rodoggx/iResearch-2024/venv/lib/python3.10/site-packages/transformers/models/whisper/generation_whisper.py:480: FutureWarning: The input name `inputs` is deprecated. Please make sure to use `input_features` instead.\n",
      "  warnings.warn(\n"
     ]
    },
    {
     "name": "stdout",
     "output_type": "stream",
     "text": [
      "KJFK-Twr-Jun-24-2024-1830Z.mp3.wav\n",
      "{'text': \" Alright Skyline, Delta 419 and Bravo Kennedy Tower, wind 300 at 22, GUS 34, runway 31R, set a line 31R, set a line Delta 419, Bravo Zip Blue 356, turn left Victor, taxi to the ramp, straight ahead to uniform, and then a left turn on Alpha, monitor ground, 29 Victor, left turn on uniform and alpha, and oh, congrats, that was great. That was great, thanks. Tower, good afternoon, American, 332 on the ILS, runway 31R. NASA, 332, Kennedy Tower, good afternoon, 4213, 6 miles and trail, the heavy air bus 350, wind 300 at 22, gust 34, runway 31R, cleared to land. 31R, cleared to land, American, 332. you This is 1770, turn left, Whiskey, Whiskey, taxi to the ramp, left turn, Bravo, taxiway Alpha 4, taxiway Alpha, monitor ground 0.9. Whiskey, Whiskey, Bravo, Whiskey, Alpha 4, over to our ramp, Joplin 70. Yeah, taxiway Alpha 4, join Alpha. Alpha 4, join Alpha, sorry about that, Joplin 70. Delta 419 Bravo, say airspeed. Delta 419 Bravo, you're signed to 160 knots. American 332, say a two- 169, American 332. 2434, Romeo Golf, couple of targets in the vicinity of lower Manhattan, you saw it from your lead in the Kennedy class Bravo airspace, radar service is terminated, change to advisory frequency approved, 12 CFR. Romeo Golf, thanks for your help, looking for me. We'll be right back. We are 5820, Kennedy Tower, wind 300 at one-niner, you got 27, runway 31R, clear to land. 311 right, set away, we are 5820 Delta, what's after 8, Bravo, Lima, numerous targets in the Sydney, O'Reilly, Manhattan, use caution and use mechanic class, Bravo airspace, radar service is terminated, change to advisory frequency, please, squawk CFR Squawk in position, looking at 8, 311 Look at 5820 traffic, 9 o'clock, 5 miles, on a left dogleg for the parallel. There's a company, Embraer 175 in American colors, 2000. Sir, 7840, 7820. Elkin Tower, to 4844, I'll let the 31 right. 4844, Kennedy Tower, wind 300 at 18, gust 27, runway 31 right, go to land. LL31R, 244 V-62, 51 heavy, turn left Victor, taxi to terminal 8, right turn on Bravo, remain this frequency Vector, right turn on Bravo to terminal 80, various 62, 51, heavy, remain in frequency. Thank you. 360 is ILS 3 on right SpaceX 560 Kennedy Tower, wind 30017, gust 27, runway 31R, cleared to land 3 on right, cleared to land, pressure 560 ILS 62, or is it 6251 heavy, monitor ground on 1219 Monitor ground 1219, thank you, bye, ILS 6251 you American 332, turn left, whiskey, whiskey, taxi to ramp, right turn, bravo, monitor ground point on your right. Ground point nine, whiskey, whiskey, right turn, bravo, to the ramp, good day, American 332. Tower, hello, JetBlue 152, ILS runway 31R JetBlue 152, Kennedy Tower, wind 310 at 21, gust 27, runway 31R, clear to land Runway 31R, clear to land, JetBlue 152 Let's get 560 traffic, 9 o'clock, 2 miles, inbound for the parallel runway, CRJ 900, 2000. Let's get 560, you've got it, please. you 419 Bravo turn left next taxiway whiskey, taxi to the ramp, left turn on alpha, monitor Monitor ground, 090. This is the Alpha, monitor depth, Alpha 9, Alpha 4. We're there now and they're 4844. Yeah, what's the speed? Oh, sorry, it's 144 knots. Tower, I've got 5-0. Aircraft beam is going to 3-1-west. Are they CRJ 200 or 9? CRJ 900. At least that's what it tells me in my scratch pad here. They could have gotten it wrong, but I'm assuming that's the effect that we used to get here. We're going 5820, turn left, Whiskey, taxi to ramp, left turn, Alpha, monitor ground 0.9. Whiskey, Alpha to the ramp, monitor ground 0.9, we're going 5820. Thank you. Hey, Exit Jet 904 is on the ILS 31R. Exit 904, can I get you on an Airbus 320, 4 miles ahead, Exit Jet 904, we're in 310 at 22, you got T-9, runway 31R, cleared to land. 31R, cleared to land, Exit Jet 904. TX904, traffic 8 o'clock and about a mile and a half inbound to the parallel runway to CRJ9TX. TX904. And then 4844, turn left with key, taxi to the ramp, left on alpha, monitor ground, point nine. And then 4844, left with key, left alpha, monitor ground. Tower, hello, I'm at 69RT for ILS 310, 310R. I'm at 69RT for Canada Air, tower, wind 310 at C3, you got C9, runway 310R, C9. Tower, C9, 310R, I'm at C9. Exec, jet 904, stay airspeed. Exec, jet 904, we're at about 140. Alright, you able to give me maybe 160 for another 2 miles? 160 for another 2, we can do it. This is 904-160, I'll see you live at 60. Okay, 160 to ZL, I'll see you at 904. ILS 319, 15 miles. We're at 3-0-0-2-4. You have 3-0. Runway 310, clear to land. Clear to land, 310. 3-1-3-3, I'm ready. And take that 5-60, can you make a quick right turn there and join Alpha to the right? Make a right turn on Alpha. Thank you. And you're at 69RM, you can slow to final third speed if you haven't already. I'm at 69RM, roger. Chester, 152, turn left at Whiskey, taxi to the ramp, left turn on Alpha, monitor ground, 0.9. Okay, turn on Whiskey, left on Alpha, monitor ground, 0.9, and taxi to the ramp, you're at 152. Left at 560, continue taxi, straight ahead Alpha, Uniform, which is the taxiway coming up, At uniform, you're going to join Bravo, make a left turn on Bravo, and hold still to November. All right. We'll be out for the uniform right here. Left on Bravo. Hold still to November. All right. And correct the ground. Left and right. All right. All right. You're going to make a left turn there on Bravo. You're going to cross this bridge and then another bridge, and shortly after that next bridge is November, or short of November. All right. Short of November. Short of November. All right. Bye. We've switched to 560 contact ground on 121.9. Thank you. Left, Delta Bravo there, taxi to the ramp, right Bravo, remain with me. Yes, right Bravo, sorry about that, right Bravo, and just remain with me, keep taxiing right on Bravo. I've been tired of the five heavy number two I believe for Delta 285 heavy, Kennedy Tower, courseway 7, respond heavy, Boeing 777, about 4.5 miles ahead, runway 310, one-niner, set to 3-0, runway 3-1-right, cleared to land. Cleared to land, discussion to 3-0, I believe he said, and we'll clear to land 3-1-right for Delta 285. Yes, discussion to 3-2-6. Thank you. Tower, good afternoon, Delta 510 with you, ILS 31R. Delta 510, Kennedy Tower, caution, wake up on the foreign trail, the heavy is going 767. We're in 31018, gust 30, runway 31R, cleared to land. Cleared to land, 31R, Delta 510. M-69R, super, remain this frequency, taxi uniform 3, uniform, hold short, Bravo. Roger, stay with you, left on uniform, uniform 3, hold short drop on red, 6-9-0 Delta, 285 heavy, wind after you land, request flight conditions on time Delta, 285 heavy, welcome Tower, Desmond, 4, ILS 31R. 554 Kennedy Tower, we're in 31017, get 30, runway 31R, cleared to land Cleared to land, 31R, said 754 Roger, 6-9 Romeo Super, please give me a ramp-up call when you're short of Bravo there and let me know if you can get in or not Roger, we'll call you back, 7-6-9 Romeo ... ... ... ... ... ... ... ... ... ... ... ... ... ... 5-4, traffic 9 o'clock, 3 miles, wind down to the parallel, Airbus C20, speak down. I'm looking for 7-4. Oh, okay. C-173, Alpha Heavy, turn left, Whiskey, Whiskey, taxi to the ramp, right turn on Bravo, the C-172 to Bravo, you can monitor the ramp, point 9. Whiskey, Whiskey, to the ramp, on Bravo, you're on C-173, Alpha Heavy. Kennedy Tower, American 118, about 4 miles out from the hall, please put the initial 3-1-right Kennedy Tower, wind 3-1-0-1-8, gust 3-0, runway 3-1-right, cleared to land 3-1-right, cleared to land, American 118 Tower, MX-69R, we spoke to Ramsey 1, testify our goal, and tram is available MX-69R, super behind British Airways, continue taxi, uniform, and a left turn on Alpha to the ramp Just remain with me for now. Roger, after British Airways, continue uniform, out fast to the ramp, stay with you, have a six-mile order please. you ... ... ... you Thank you. you Delta 510 turn left with the taxi 2 ramps, left turn alpha, line up the ground, point 9 With the alpha, point 9, Delta 510 ... ... ... ... ... ... ... ... ... ... ... ... ... ... ... you It says 554, turn left, Whiskey Whiskey, remain this frequency, SAC-D to the ramp. Whiskey Whiskey, SAC-D to the ramp, it says. you you Starge, I'm Blue 20, inbound to ILS, through and right. American 118, turn left Whiskey Whiskey, back to two ramps, right turn Bravo, monitor ground, JetBlue 20, JetBlue 20. Tower, Delta 429, inbound islet, 31R. Delta 429, Kennedy Tower, wind 310 at 23, gust 31, runway 31R, cleared to land. Cleared to land 31R, Delta 429. ... ... ... ... ... ... ... ... ... ... ... ... ... 4NR, go to land. Go to land, 4NR, American 2464, thank you. N6A6A, then left Whiskey, right Bravo, monitor ground, 129. Whiskey, then right Bravo, then ground, 129, sorry, 6A. Powered up. JetBlue 20, just verifying, cleared to land JetBlue 20, cleared to land, runway 309 Alright, cleared to land, 309, right, JetBlue 20 That's tower WRA 185 heavy 301.\"}\n",
      "\n",
      "----------------------------------------------------------\n",
      "\n"
     ]
    },
    {
     "ename": "ValueError",
     "evalue": "Soundfile is either not in the correct format or is malformed. Ensure that the soundfile has a valid audio file extension (e.g. wav, flac or mp3) and is not corrupted. If reading from a remote URL, ensure that the URL is the full address to **download** the audio file.",
     "output_type": "error",
     "traceback": [
      "\u001b[0;31m---------------------------------------------------------------------------\u001b[0m",
      "\u001b[0;31mValueError\u001b[0m                                Traceback (most recent call last)",
      "Cell \u001b[0;32mIn[4], line 29\u001b[0m\n\u001b[1;32m     27\u001b[0m \u001b[38;5;28;01mfor\u001b[39;00m i \u001b[38;5;129;01min\u001b[39;00m \u001b[38;5;28mrange\u001b[39m(\u001b[38;5;241m0\u001b[39m, \u001b[38;5;241m4\u001b[39m):\n\u001b[1;32m     28\u001b[0m     foo \u001b[38;5;241m=\u001b[39m listdir()[i]\n\u001b[0;32m---> 29\u001b[0m     result \u001b[38;5;241m=\u001b[39m \u001b[43mpipe\u001b[49m\u001b[43m(\u001b[49m\u001b[43mfoo\u001b[49m\u001b[43m)\u001b[49m\n\u001b[1;32m     30\u001b[0m     \u001b[38;5;28mprint\u001b[39m(foo)\n\u001b[1;32m     31\u001b[0m     \u001b[38;5;28mprint\u001b[39m(result)\n",
      "File \u001b[0;32m~/iResearch-2024/venv/lib/python3.10/site-packages/transformers/pipelines/automatic_speech_recognition.py:284\u001b[0m, in \u001b[0;36mAutomaticSpeechRecognitionPipeline.__call__\u001b[0;34m(self, inputs, **kwargs)\u001b[0m\n\u001b[1;32m    221\u001b[0m \u001b[38;5;28;01mdef\u001b[39;00m \u001b[38;5;21m__call__\u001b[39m(\n\u001b[1;32m    222\u001b[0m     \u001b[38;5;28mself\u001b[39m,\n\u001b[1;32m    223\u001b[0m     inputs: Union[np\u001b[38;5;241m.\u001b[39mndarray, \u001b[38;5;28mbytes\u001b[39m, \u001b[38;5;28mstr\u001b[39m],\n\u001b[1;32m    224\u001b[0m     \u001b[38;5;241m*\u001b[39m\u001b[38;5;241m*\u001b[39mkwargs,\n\u001b[1;32m    225\u001b[0m ):\n\u001b[1;32m    226\u001b[0m \u001b[38;5;250m    \u001b[39m\u001b[38;5;124;03m\"\"\"\u001b[39;00m\n\u001b[1;32m    227\u001b[0m \u001b[38;5;124;03m    Transcribe the audio sequence(s) given as inputs to text. See the [`AutomaticSpeechRecognitionPipeline`]\u001b[39;00m\n\u001b[1;32m    228\u001b[0m \u001b[38;5;124;03m    documentation for more information.\u001b[39;00m\n\u001b[0;32m   (...)\u001b[0m\n\u001b[1;32m    282\u001b[0m \u001b[38;5;124;03m                `\"\".join(chunk[\"text\"] for chunk in output[\"chunks\"])`.\u001b[39;00m\n\u001b[1;32m    283\u001b[0m \u001b[38;5;124;03m    \"\"\"\u001b[39;00m\n\u001b[0;32m--> 284\u001b[0m     \u001b[38;5;28;01mreturn\u001b[39;00m \u001b[38;5;28;43msuper\u001b[39;49m\u001b[43m(\u001b[49m\u001b[43m)\u001b[49m\u001b[38;5;241;43m.\u001b[39;49m\u001b[38;5;21;43m__call__\u001b[39;49m\u001b[43m(\u001b[49m\u001b[43minputs\u001b[49m\u001b[43m,\u001b[49m\u001b[43m \u001b[49m\u001b[38;5;241;43m*\u001b[39;49m\u001b[38;5;241;43m*\u001b[39;49m\u001b[43mkwargs\u001b[49m\u001b[43m)\u001b[49m\n",
      "File \u001b[0;32m~/iResearch-2024/venv/lib/python3.10/site-packages/transformers/pipelines/base.py:1246\u001b[0m, in \u001b[0;36mPipeline.__call__\u001b[0;34m(self, inputs, num_workers, batch_size, *args, **kwargs)\u001b[0m\n\u001b[1;32m   1244\u001b[0m     \u001b[38;5;28;01mreturn\u001b[39;00m \u001b[38;5;28mself\u001b[39m\u001b[38;5;241m.\u001b[39miterate(inputs, preprocess_params, forward_params, postprocess_params)\n\u001b[1;32m   1245\u001b[0m \u001b[38;5;28;01melif\u001b[39;00m \u001b[38;5;28mself\u001b[39m\u001b[38;5;241m.\u001b[39mframework \u001b[38;5;241m==\u001b[39m \u001b[38;5;124m\"\u001b[39m\u001b[38;5;124mpt\u001b[39m\u001b[38;5;124m\"\u001b[39m \u001b[38;5;129;01mand\u001b[39;00m \u001b[38;5;28misinstance\u001b[39m(\u001b[38;5;28mself\u001b[39m, ChunkPipeline):\n\u001b[0;32m-> 1246\u001b[0m     \u001b[38;5;28;01mreturn\u001b[39;00m \u001b[38;5;28;43mnext\u001b[39;49m\u001b[43m(\u001b[49m\n\u001b[1;32m   1247\u001b[0m \u001b[43m        \u001b[49m\u001b[38;5;28;43miter\u001b[39;49m\u001b[43m(\u001b[49m\n\u001b[1;32m   1248\u001b[0m \u001b[43m            \u001b[49m\u001b[38;5;28;43mself\u001b[39;49m\u001b[38;5;241;43m.\u001b[39;49m\u001b[43mget_iterator\u001b[49m\u001b[43m(\u001b[49m\n\u001b[1;32m   1249\u001b[0m \u001b[43m                \u001b[49m\u001b[43m[\u001b[49m\u001b[43minputs\u001b[49m\u001b[43m]\u001b[49m\u001b[43m,\u001b[49m\u001b[43m \u001b[49m\u001b[43mnum_workers\u001b[49m\u001b[43m,\u001b[49m\u001b[43m \u001b[49m\u001b[43mbatch_size\u001b[49m\u001b[43m,\u001b[49m\u001b[43m \u001b[49m\u001b[43mpreprocess_params\u001b[49m\u001b[43m,\u001b[49m\u001b[43m \u001b[49m\u001b[43mforward_params\u001b[49m\u001b[43m,\u001b[49m\u001b[43m \u001b[49m\u001b[43mpostprocess_params\u001b[49m\n\u001b[1;32m   1250\u001b[0m \u001b[43m            \u001b[49m\u001b[43m)\u001b[49m\n\u001b[1;32m   1251\u001b[0m \u001b[43m        \u001b[49m\u001b[43m)\u001b[49m\n\u001b[1;32m   1252\u001b[0m \u001b[43m    \u001b[49m\u001b[43m)\u001b[49m\n\u001b[1;32m   1253\u001b[0m \u001b[38;5;28;01melse\u001b[39;00m:\n\u001b[1;32m   1254\u001b[0m     \u001b[38;5;28;01mreturn\u001b[39;00m \u001b[38;5;28mself\u001b[39m\u001b[38;5;241m.\u001b[39mrun_single(inputs, preprocess_params, forward_params, postprocess_params)\n",
      "File \u001b[0;32m~/iResearch-2024/venv/lib/python3.10/site-packages/transformers/pipelines/pt_utils.py:124\u001b[0m, in \u001b[0;36mPipelineIterator.__next__\u001b[0;34m(self)\u001b[0m\n\u001b[1;32m    121\u001b[0m     \u001b[38;5;28;01mreturn\u001b[39;00m \u001b[38;5;28mself\u001b[39m\u001b[38;5;241m.\u001b[39mloader_batch_item()\n\u001b[1;32m    123\u001b[0m \u001b[38;5;66;03m# We're out of items within a batch\u001b[39;00m\n\u001b[0;32m--> 124\u001b[0m item \u001b[38;5;241m=\u001b[39m \u001b[38;5;28;43mnext\u001b[39;49m\u001b[43m(\u001b[49m\u001b[38;5;28;43mself\u001b[39;49m\u001b[38;5;241;43m.\u001b[39;49m\u001b[43miterator\u001b[49m\u001b[43m)\u001b[49m\n\u001b[1;32m    125\u001b[0m processed \u001b[38;5;241m=\u001b[39m \u001b[38;5;28mself\u001b[39m\u001b[38;5;241m.\u001b[39minfer(item, \u001b[38;5;241m*\u001b[39m\u001b[38;5;241m*\u001b[39m\u001b[38;5;28mself\u001b[39m\u001b[38;5;241m.\u001b[39mparams)\n\u001b[1;32m    126\u001b[0m \u001b[38;5;66;03m# We now have a batch of \"inferred things\".\u001b[39;00m\n",
      "File \u001b[0;32m~/iResearch-2024/venv/lib/python3.10/site-packages/transformers/pipelines/pt_utils.py:269\u001b[0m, in \u001b[0;36mPipelinePackIterator.__next__\u001b[0;34m(self)\u001b[0m\n\u001b[1;32m    266\u001b[0m             \u001b[38;5;28;01mreturn\u001b[39;00m accumulator\n\u001b[1;32m    268\u001b[0m \u001b[38;5;28;01mwhile\u001b[39;00m \u001b[38;5;129;01mnot\u001b[39;00m is_last:\n\u001b[0;32m--> 269\u001b[0m     processed \u001b[38;5;241m=\u001b[39m \u001b[38;5;28mself\u001b[39m\u001b[38;5;241m.\u001b[39minfer(\u001b[38;5;28;43mnext\u001b[39;49m\u001b[43m(\u001b[49m\u001b[38;5;28;43mself\u001b[39;49m\u001b[38;5;241;43m.\u001b[39;49m\u001b[43miterator\u001b[49m\u001b[43m)\u001b[49m, \u001b[38;5;241m*\u001b[39m\u001b[38;5;241m*\u001b[39m\u001b[38;5;28mself\u001b[39m\u001b[38;5;241m.\u001b[39mparams)\n\u001b[1;32m    270\u001b[0m     \u001b[38;5;28;01mif\u001b[39;00m \u001b[38;5;28mself\u001b[39m\u001b[38;5;241m.\u001b[39mloader_batch_size \u001b[38;5;129;01mis\u001b[39;00m \u001b[38;5;129;01mnot\u001b[39;00m \u001b[38;5;28;01mNone\u001b[39;00m:\n\u001b[1;32m    271\u001b[0m         \u001b[38;5;28;01mif\u001b[39;00m \u001b[38;5;28misinstance\u001b[39m(processed, torch\u001b[38;5;241m.\u001b[39mTensor):\n",
      "File \u001b[0;32m~/iResearch-2024/venv/lib/python3.10/site-packages/torch/utils/data/dataloader.py:631\u001b[0m, in \u001b[0;36m_BaseDataLoaderIter.__next__\u001b[0;34m(self)\u001b[0m\n\u001b[1;32m    628\u001b[0m \u001b[38;5;28;01mif\u001b[39;00m \u001b[38;5;28mself\u001b[39m\u001b[38;5;241m.\u001b[39m_sampler_iter \u001b[38;5;129;01mis\u001b[39;00m \u001b[38;5;28;01mNone\u001b[39;00m:\n\u001b[1;32m    629\u001b[0m     \u001b[38;5;66;03m# TODO(https://github.com/pytorch/pytorch/issues/76750)\u001b[39;00m\n\u001b[1;32m    630\u001b[0m     \u001b[38;5;28mself\u001b[39m\u001b[38;5;241m.\u001b[39m_reset()  \u001b[38;5;66;03m# type: ignore[call-arg]\u001b[39;00m\n\u001b[0;32m--> 631\u001b[0m data \u001b[38;5;241m=\u001b[39m \u001b[38;5;28;43mself\u001b[39;49m\u001b[38;5;241;43m.\u001b[39;49m\u001b[43m_next_data\u001b[49m\u001b[43m(\u001b[49m\u001b[43m)\u001b[49m\n\u001b[1;32m    632\u001b[0m \u001b[38;5;28mself\u001b[39m\u001b[38;5;241m.\u001b[39m_num_yielded \u001b[38;5;241m+\u001b[39m\u001b[38;5;241m=\u001b[39m \u001b[38;5;241m1\u001b[39m\n\u001b[1;32m    633\u001b[0m \u001b[38;5;28;01mif\u001b[39;00m \u001b[38;5;28mself\u001b[39m\u001b[38;5;241m.\u001b[39m_dataset_kind \u001b[38;5;241m==\u001b[39m _DatasetKind\u001b[38;5;241m.\u001b[39mIterable \u001b[38;5;129;01mand\u001b[39;00m \\\n\u001b[1;32m    634\u001b[0m         \u001b[38;5;28mself\u001b[39m\u001b[38;5;241m.\u001b[39m_IterableDataset_len_called \u001b[38;5;129;01mis\u001b[39;00m \u001b[38;5;129;01mnot\u001b[39;00m \u001b[38;5;28;01mNone\u001b[39;00m \u001b[38;5;129;01mand\u001b[39;00m \\\n\u001b[1;32m    635\u001b[0m         \u001b[38;5;28mself\u001b[39m\u001b[38;5;241m.\u001b[39m_num_yielded \u001b[38;5;241m>\u001b[39m \u001b[38;5;28mself\u001b[39m\u001b[38;5;241m.\u001b[39m_IterableDataset_len_called:\n",
      "File \u001b[0;32m~/iResearch-2024/venv/lib/python3.10/site-packages/torch/utils/data/dataloader.py:675\u001b[0m, in \u001b[0;36m_SingleProcessDataLoaderIter._next_data\u001b[0;34m(self)\u001b[0m\n\u001b[1;32m    673\u001b[0m \u001b[38;5;28;01mdef\u001b[39;00m \u001b[38;5;21m_next_data\u001b[39m(\u001b[38;5;28mself\u001b[39m):\n\u001b[1;32m    674\u001b[0m     index \u001b[38;5;241m=\u001b[39m \u001b[38;5;28mself\u001b[39m\u001b[38;5;241m.\u001b[39m_next_index()  \u001b[38;5;66;03m# may raise StopIteration\u001b[39;00m\n\u001b[0;32m--> 675\u001b[0m     data \u001b[38;5;241m=\u001b[39m \u001b[38;5;28;43mself\u001b[39;49m\u001b[38;5;241;43m.\u001b[39;49m\u001b[43m_dataset_fetcher\u001b[49m\u001b[38;5;241;43m.\u001b[39;49m\u001b[43mfetch\u001b[49m\u001b[43m(\u001b[49m\u001b[43mindex\u001b[49m\u001b[43m)\u001b[49m  \u001b[38;5;66;03m# may raise StopIteration\u001b[39;00m\n\u001b[1;32m    676\u001b[0m     \u001b[38;5;28;01mif\u001b[39;00m \u001b[38;5;28mself\u001b[39m\u001b[38;5;241m.\u001b[39m_pin_memory:\n\u001b[1;32m    677\u001b[0m         data \u001b[38;5;241m=\u001b[39m _utils\u001b[38;5;241m.\u001b[39mpin_memory\u001b[38;5;241m.\u001b[39mpin_memory(data, \u001b[38;5;28mself\u001b[39m\u001b[38;5;241m.\u001b[39m_pin_memory_device)\n",
      "File \u001b[0;32m~/iResearch-2024/venv/lib/python3.10/site-packages/torch/utils/data/_utils/fetch.py:32\u001b[0m, in \u001b[0;36m_IterableDatasetFetcher.fetch\u001b[0;34m(self, possibly_batched_index)\u001b[0m\n\u001b[1;32m     30\u001b[0m \u001b[38;5;28;01mfor\u001b[39;00m _ \u001b[38;5;129;01min\u001b[39;00m possibly_batched_index:\n\u001b[1;32m     31\u001b[0m     \u001b[38;5;28;01mtry\u001b[39;00m:\n\u001b[0;32m---> 32\u001b[0m         data\u001b[38;5;241m.\u001b[39mappend(\u001b[38;5;28;43mnext\u001b[39;49m\u001b[43m(\u001b[49m\u001b[38;5;28;43mself\u001b[39;49m\u001b[38;5;241;43m.\u001b[39;49m\u001b[43mdataset_iter\u001b[49m\u001b[43m)\u001b[49m)\n\u001b[1;32m     33\u001b[0m     \u001b[38;5;28;01mexcept\u001b[39;00m \u001b[38;5;167;01mStopIteration\u001b[39;00m:\n\u001b[1;32m     34\u001b[0m         \u001b[38;5;28mself\u001b[39m\u001b[38;5;241m.\u001b[39mended \u001b[38;5;241m=\u001b[39m \u001b[38;5;28;01mTrue\u001b[39;00m\n",
      "File \u001b[0;32m~/iResearch-2024/venv/lib/python3.10/site-packages/transformers/pipelines/pt_utils.py:186\u001b[0m, in \u001b[0;36mPipelineChunkIterator.__next__\u001b[0;34m(self)\u001b[0m\n\u001b[1;32m    183\u001b[0m     \u001b[38;5;28mself\u001b[39m\u001b[38;5;241m.\u001b[39msubiterator \u001b[38;5;241m=\u001b[39m \u001b[38;5;28mself\u001b[39m\u001b[38;5;241m.\u001b[39minfer(\u001b[38;5;28mnext\u001b[39m(\u001b[38;5;28mself\u001b[39m\u001b[38;5;241m.\u001b[39miterator), \u001b[38;5;241m*\u001b[39m\u001b[38;5;241m*\u001b[39m\u001b[38;5;28mself\u001b[39m\u001b[38;5;241m.\u001b[39mparams)\n\u001b[1;32m    184\u001b[0m \u001b[38;5;28;01mtry\u001b[39;00m:\n\u001b[1;32m    185\u001b[0m     \u001b[38;5;66;03m# Try to return next item\u001b[39;00m\n\u001b[0;32m--> 186\u001b[0m     processed \u001b[38;5;241m=\u001b[39m \u001b[38;5;28;43mnext\u001b[39;49m\u001b[43m(\u001b[49m\u001b[38;5;28;43mself\u001b[39;49m\u001b[38;5;241;43m.\u001b[39;49m\u001b[43msubiterator\u001b[49m\u001b[43m)\u001b[49m\n\u001b[1;32m    187\u001b[0m \u001b[38;5;28;01mexcept\u001b[39;00m \u001b[38;5;167;01mStopIteration\u001b[39;00m:\n\u001b[1;32m    188\u001b[0m     \u001b[38;5;66;03m# When a preprocess iterator ends, we can start lookig at the next item\u001b[39;00m\n\u001b[1;32m    189\u001b[0m     \u001b[38;5;66;03m# ChunkIterator will keep feeding until ALL elements of iterator\u001b[39;00m\n\u001b[0;32m   (...)\u001b[0m\n\u001b[1;32m    192\u001b[0m     \u001b[38;5;66;03m# Another way to look at it, is we're basically flattening lists of lists\u001b[39;00m\n\u001b[1;32m    193\u001b[0m     \u001b[38;5;66;03m# into a single list, but with generators\u001b[39;00m\n\u001b[1;32m    194\u001b[0m     \u001b[38;5;28mself\u001b[39m\u001b[38;5;241m.\u001b[39msubiterator \u001b[38;5;241m=\u001b[39m \u001b[38;5;28mself\u001b[39m\u001b[38;5;241m.\u001b[39minfer(\u001b[38;5;28mnext\u001b[39m(\u001b[38;5;28mself\u001b[39m\u001b[38;5;241m.\u001b[39miterator), \u001b[38;5;241m*\u001b[39m\u001b[38;5;241m*\u001b[39m\u001b[38;5;28mself\u001b[39m\u001b[38;5;241m.\u001b[39mparams)\n",
      "File \u001b[0;32m~/iResearch-2024/venv/lib/python3.10/site-packages/transformers/pipelines/automatic_speech_recognition.py:361\u001b[0m, in \u001b[0;36mAutomaticSpeechRecognitionPipeline.preprocess\u001b[0;34m(self, inputs, chunk_length_s, stride_length_s)\u001b[0m\n\u001b[1;32m    358\u001b[0m             inputs \u001b[38;5;241m=\u001b[39m f\u001b[38;5;241m.\u001b[39mread()\n\u001b[1;32m    360\u001b[0m \u001b[38;5;28;01mif\u001b[39;00m \u001b[38;5;28misinstance\u001b[39m(inputs, \u001b[38;5;28mbytes\u001b[39m):\n\u001b[0;32m--> 361\u001b[0m     inputs \u001b[38;5;241m=\u001b[39m \u001b[43mffmpeg_read\u001b[49m\u001b[43m(\u001b[49m\u001b[43minputs\u001b[49m\u001b[43m,\u001b[49m\u001b[43m \u001b[49m\u001b[38;5;28;43mself\u001b[39;49m\u001b[38;5;241;43m.\u001b[39;49m\u001b[43mfeature_extractor\u001b[49m\u001b[38;5;241;43m.\u001b[39;49m\u001b[43msampling_rate\u001b[49m\u001b[43m)\u001b[49m\n\u001b[1;32m    363\u001b[0m stride \u001b[38;5;241m=\u001b[39m \u001b[38;5;28;01mNone\u001b[39;00m\n\u001b[1;32m    364\u001b[0m extra \u001b[38;5;241m=\u001b[39m {}\n",
      "File \u001b[0;32m~/iResearch-2024/venv/lib/python3.10/site-packages/transformers/pipelines/audio_utils.py:41\u001b[0m, in \u001b[0;36mffmpeg_read\u001b[0;34m(bpayload, sampling_rate)\u001b[0m\n\u001b[1;32m     39\u001b[0m audio \u001b[38;5;241m=\u001b[39m np\u001b[38;5;241m.\u001b[39mfrombuffer(out_bytes, np\u001b[38;5;241m.\u001b[39mfloat32)\n\u001b[1;32m     40\u001b[0m \u001b[38;5;28;01mif\u001b[39;00m audio\u001b[38;5;241m.\u001b[39mshape[\u001b[38;5;241m0\u001b[39m] \u001b[38;5;241m==\u001b[39m \u001b[38;5;241m0\u001b[39m:\n\u001b[0;32m---> 41\u001b[0m     \u001b[38;5;28;01mraise\u001b[39;00m \u001b[38;5;167;01mValueError\u001b[39;00m(\n\u001b[1;32m     42\u001b[0m         \u001b[38;5;124m\"\u001b[39m\u001b[38;5;124mSoundfile is either not in the correct format or is malformed. Ensure that the soundfile has \u001b[39m\u001b[38;5;124m\"\u001b[39m\n\u001b[1;32m     43\u001b[0m         \u001b[38;5;124m\"\u001b[39m\u001b[38;5;124ma valid audio file extension (e.g. wav, flac or mp3) and is not corrupted. If reading from a remote \u001b[39m\u001b[38;5;124m\"\u001b[39m\n\u001b[1;32m     44\u001b[0m         \u001b[38;5;124m\"\u001b[39m\u001b[38;5;124mURL, ensure that the URL is the full address to **download** the audio file.\u001b[39m\u001b[38;5;124m\"\u001b[39m\n\u001b[1;32m     45\u001b[0m     )\n\u001b[1;32m     46\u001b[0m \u001b[38;5;28;01mreturn\u001b[39;00m audio\n",
      "\u001b[0;31mValueError\u001b[0m: Soundfile is either not in the correct format or is malformed. Ensure that the soundfile has a valid audio file extension (e.g. wav, flac or mp3) and is not corrupted. If reading from a remote URL, ensure that the URL is the full address to **download** the audio file."
     ]
    }
   ],
   "source": [
    "device = \"cuda:0\" if torch.cuda.is_available() else \"cpu\"\n",
    "torch_dtype = torch.float16 if torch.cuda.is_available() else torch.float32\n",
    "\n",
    "model_id = \"openai/whisper-large-v3\"\n",
    "\n",
    "model = AutoModelForSpeechSeq2Seq.from_pretrained(\n",
    "    model_id, torch_dtype=torch_dtype, low_cpu_mem_usage=True, use_safetensors=True\n",
    ")\n",
    "model.to(device)\n",
    "\n",
    "processor = AutoProcessor.from_pretrained(model_id)\n",
    "\n",
    "pipe = pipeline(\n",
    "    \"automatic-speech-recognition\",\n",
    "    model=model,\n",
    "    tokenizer=processor.tokenizer,\n",
    "    feature_extractor=processor.feature_extractor,\n",
    "    max_new_tokens=128,\n",
    "    torch_dtype=torch_dtype,\n",
    "    device=device,\n",
    ")\n",
    "\n",
    "dataset = load_dataset(\"distil-whisper/librispeech_long\", \"clean\", split=\"validation\")\n",
    "sample = dataset[0][\"audio\"]\n",
    "\n",
    "chdir(\"/home/rodoggx/iResearch-2024/ATC-recordings\")\n",
    "for i in range(0, 4):\n",
    "    foo = listdir()[i]\n",
    "    result = pipe(foo)\n",
    "    print(foo)\n",
    "    print(result)\n",
    "    print(\"\\n----------------------------------------------------------\\n\")\n",
    "\n",
    "    with open(\"output.txt\", \"a\") as f:\n",
    "        f.write(str(foo))\n",
    "        f.write(str(result))\n",
    "        f.write(\"\\n----------------------------------------------------------\\n\")\n"
   ]
  }
 ],
 "metadata": {
  "kernelspec": {
   "display_name": "venv",
   "language": "python",
   "name": "python3"
  },
  "language_info": {
   "codemirror_mode": {
    "name": "ipython",
    "version": 3
   },
   "file_extension": ".py",
   "mimetype": "text/x-python",
   "name": "python",
   "nbconvert_exporter": "python",
   "pygments_lexer": "ipython3",
   "version": "3.11.5"
  }
 },
 "nbformat": 4,
 "nbformat_minor": 2
}
