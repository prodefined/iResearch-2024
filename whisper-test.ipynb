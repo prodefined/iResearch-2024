{
 "cells": [
  {
   "cell_type": "markdown",
   "metadata": {},
   "source": [
    "Imports"
   ]
  },
  {
   "cell_type": "code",
   "execution_count": 1,
   "metadata": {},
   "outputs": [
    {
     "name": "stderr",
     "output_type": "stream",
     "text": [
      "c:\\Users\\rowan\\OneDrive\\Desktop\\code\\iResearch-2024\\venv\\Lib\\site-packages\\tqdm\\auto.py:21: TqdmWarning: IProgress not found. Please update jupyter and ipywidgets. See https://ipywidgets.readthedocs.io/en/stable/user_install.html\n",
      "  from .autonotebook import tqdm as notebook_tqdm\n",
      "c:\\Users\\rowan\\OneDrive\\Desktop\\code\\iResearch-2024\\venv\\Lib\\site-packages\\pydub\\utils.py:170: RuntimeWarning: Couldn't find ffmpeg or avconv - defaulting to ffmpeg, but may not work\n",
      "  warn(\"Couldn't find ffmpeg or avconv - defaulting to ffmpeg, but may not work\", RuntimeWarning)\n"
     ]
    }
   ],
   "source": [
    "import torch\n",
    "from transformers import AutoModelForSpeechSeq2Seq, AutoProcessor, pipeline\n",
    "from datasets import load_dataset\n",
    "from os import chdir, remove, close, listdir, path\n",
    "from pydub import AudioSegment \n"
   ]
  },
  {
   "cell_type": "code",
   "execution_count": null,
   "metadata": {
    "vscode": {
     "languageId": "powershell"
    }
   },
   "outputs": [],
   "source": [
    "# https://archive.liveatc.net/kjfk/KJFK-Twr-Jun-24-2024-0000Z.mp3\n",
    "\n",
    "$baseUrl = \"https://archive.liveatc.net/kjfk/KJFK-Twr-Jun-24-2024-\"\n",
    "\n",
    "# Initialize time as a string\n",
    "$time = \"0000\"\n",
    "\n",
    "$client = New-Object System.Net.WebClient\n",
    "\n",
    "# Loop until time is less than 24 hours\n",
    "while ($time -ne \"2330\") {\n",
    "\t$url = $baseUrl + $time + \"Z.mp3\"\n",
    "\n",
    "\tWrite-Output \"Downloading $url\"\n",
    "\n",
    "\ttry {\n",
    "\t\t# Download the file\n",
    "\t\t$client.DownloadFile($url, \"/home/rodoggx/iResearch-2024/ATC-recordings/KJFK-Twr-Jun-24-2024-\" + $time + \"Z.mp3\")\n",
    "\t} catch {\n",
    "\t\tWrite-Output \"File not found\"\n",
    "\t}\n",
    "    # Convert string to DateTime object for easy manipulation\n",
    "    $timeObject = [DateTime]::ParseExact($time, \"HHmm\", $null)\n",
    "\n",
    "    # Add 30 minutes\n",
    "    $timeObject = $timeObject.AddMinutes(30)\n",
    "\n",
    "    # Convert DateTime object back to string\n",
    "    $time = $timeObject.ToString(\"HHmm\")\n",
    "}"
   ]
  },
  {
   "cell_type": "code",
   "execution_count": 6,
   "metadata": {},
   "outputs": [],
   "source": [
    "chdir(\"/home/rodoggx/iResearch-2024/ATC-recordings\")\n",
    "for foo in listdir():\n",
    "    input_file = foo\n",
    "    output_file = foo.rsplit('.', 1)[0] + '.wav'\n",
    "\n",
    "    # convert mp3 file to wav file \n",
    "    sound = AudioSegment.from_mp3(input_file) \n",
    "    sound.export(output_file, format=\"wav\")\n",
    "    \n",
    "    remove(foo)"
   ]
  },
  {
   "cell_type": "code",
   "execution_count": 16,
   "metadata": {},
   "outputs": [
    {
     "name": "stderr",
     "output_type": "stream",
     "text": [
      "Special tokens have been added in the vocabulary, make sure the associated word embeddings are fine-tuned or trained.\n",
      "/home/rodoggx/iResearch-2024/venv/lib/python3.10/site-packages/transformers/models/whisper/generation_whisper.py:480: FutureWarning: The input name `inputs` is deprecated. Please make sure to use `input_features` instead.\n",
      "  warnings.warn(\n"
     ]
    }
   ],
   "source": [
    "device = \"cuda:0\" if torch.cuda.is_available() else \"cpu\"\n",
    "torch_dtype = torch.float16 if torch.cuda.is_available() else torch.float32\n",
    "\n",
    "model_id = \"openai/whisper-large-v3\"\n",
    "\n",
    "model = AutoModelForSpeechSeq2Seq.from_pretrained(\n",
    "    model_id, torch_dtype=torch_dtype, low_cpu_mem_usage=True, use_safetensors=True\n",
    ")\n",
    "model.to(device)\n",
    "\n",
    "processor = AutoProcessor.from_pretrained(model_id)\n",
    "\n",
    "pipe = pipeline(\n",
    "    \"automatic-speech-recognition\",\n",
    "    model=model,\n",
    "    tokenizer=processor.tokenizer,\n",
    "    feature_extractor=processor.feature_extractor,\n",
    "    max_new_tokens=128,\n",
    "    torch_dtype=torch_dtype,\n",
    "    device=device,\n",
    ")\n",
    "\n",
    "dataset = load_dataset(\"distil-whisper/librispeech_long\", \"clean\", split=\"validation\")\n",
    "sample = dataset[0][\"audio\"]\n",
    "\n",
    "for foo in listdir():\n",
    "    result = pipe(foo, return_timestamps=True)\n",
    "    print(result)\n",
    "    print(\"\\n----------------------------------------------------------\\n\")\n",
    "\n",
    "    with open(\"output.txt\", \"a\") as f:\n",
    "        f.write(str(result))\n",
    "        f.write(\"\\n----------------------------------------------------------\\n\")\n"
   ]
  }
 ],
 "metadata": {
  "kernelspec": {
   "display_name": "venv",
   "language": "python",
   "name": "python3"
  },
  "language_info": {
   "codemirror_mode": {
    "name": "ipython",
    "version": 3
   },
   "file_extension": ".py",
   "mimetype": "text/x-python",
   "name": "python",
   "nbconvert_exporter": "python",
   "pygments_lexer": "ipython3",
   "version": "3.11.5"
  }
 },
 "nbformat": 4,
 "nbformat_minor": 2
}
