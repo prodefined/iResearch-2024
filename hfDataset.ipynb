{
 "cells": [
  {
   "cell_type": "code",
   "execution_count": 5,
   "metadata": {},
   "outputs": [],
   "source": [
    "from datasets import load_dataset, Dataset\n",
    "from bs4 import BeautifulSoup\n",
    "import re"
   ]
  },
  {
   "cell_type": "markdown",
   "metadata": {},
   "source": [
    "## Uploading Noisy Dataset"
   ]
  },
  {
   "cell_type": "code",
   "execution_count": 8,
   "metadata": {},
   "outputs": [
    {
     "data": {
      "application/vnd.jupyter.widget-view+json": {
       "model_id": "f709201f0bc444fd8569f87172c378be",
       "version_major": 2,
       "version_minor": 0
      },
      "text/plain": [
       "Resolving data files:   0%|          | 0/560 [00:00<?, ?it/s]"
      ]
     },
     "metadata": {},
     "output_type": "display_data"
    },
    {
     "data": {
      "application/vnd.jupyter.widget-view+json": {
       "model_id": "d882245a4fdd4bd499b8685a06513151",
       "version_major": 2,
       "version_minor": 0
      },
      "text/plain": [
       "Uploading the dataset shards:   0%|          | 0/1 [00:00<?, ?it/s]"
      ]
     },
     "metadata": {},
     "output_type": "display_data"
    },
    {
     "data": {
      "application/vnd.jupyter.widget-view+json": {
       "model_id": "3df458c00e784b54b34794a27a90d7d9",
       "version_major": 2,
       "version_minor": 0
      },
      "text/plain": [
       "Map:   0%|          | 0/448 [00:00<?, ? examples/s]"
      ]
     },
     "metadata": {},
     "output_type": "display_data"
    },
    {
     "data": {
      "application/vnd.jupyter.widget-view+json": {
       "model_id": "37c3110adf6b4abeafc3641e910249dc",
       "version_major": 2,
       "version_minor": 0
      },
      "text/plain": [
       "Creating parquet from Arrow format:   0%|          | 0/5 [00:00<?, ?ba/s]"
      ]
     },
     "metadata": {},
     "output_type": "display_data"
    },
    {
     "data": {
      "application/vnd.jupyter.widget-view+json": {
       "model_id": "2fa6e1cf51ff4e139933b4bb06f834f8",
       "version_major": 2,
       "version_minor": 0
      },
      "text/plain": [
       "Uploading the dataset shards:   0%|          | 0/1 [00:00<?, ?it/s]"
      ]
     },
     "metadata": {},
     "output_type": "display_data"
    },
    {
     "data": {
      "application/vnd.jupyter.widget-view+json": {
       "model_id": "ac19aed74c064796b38e2107097d2140",
       "version_major": 2,
       "version_minor": 0
      },
      "text/plain": [
       "Map:   0%|          | 0/112 [00:00<?, ? examples/s]"
      ]
     },
     "metadata": {},
     "output_type": "display_data"
    },
    {
     "data": {
      "application/vnd.jupyter.widget-view+json": {
       "model_id": "2b23537c769040898b1dd988dcbccbbb",
       "version_major": 2,
       "version_minor": 0
      },
      "text/plain": [
       "Creating parquet from Arrow format:   0%|          | 0/2 [00:00<?, ?ba/s]"
      ]
     },
     "metadata": {},
     "output_type": "display_data"
    },
    {
     "data": {
      "application/vnd.jupyter.widget-view+json": {
       "model_id": "c489ed17c7d24baa8394597e929f3baf",
       "version_major": 2,
       "version_minor": 0
      },
      "text/plain": [
       "README.md:   0%|          | 0.00/420 [00:00<?, ?B/s]"
      ]
     },
     "metadata": {},
     "output_type": "display_data"
    },
    {
     "data": {
      "text/plain": [
       "CommitInfo(commit_url='https://huggingface.co/datasets/rodoggx/ATCO2-ASR-1h/commit/5fbb08715fe0912f3766df2cf73e9c3b3e13c895', commit_message='Upload dataset', commit_description='', oid='5fbb08715fe0912f3766df2cf73e9c3b3e13c895', pr_url=None, pr_revision=None, pr_num=None)"
      ]
     },
     "execution_count": 8,
     "metadata": {},
     "output_type": "execute_result"
    }
   ],
   "source": [
    "dataset = load_dataset('DATA')\n",
    "\n",
    "text=[]\n",
    "\n",
    "for i in dataset['train']:\n",
    "    xml = i['audio']['path'].replace('.wav', '.xml')\n",
    "    transcript = []\n",
    "    with open(xml, 'r') as f:\n",
    "        content = f.read()\n",
    "        Bs_data = BeautifulSoup(content, \"xml\")\n",
    "        b_unique = Bs_data.find_all('text')\n",
    "        for j in b_unique:\n",
    "            transcript.append(j.text)\n",
    "\n",
    "    text.append(transcript)\n",
    "\n",
    "for j in range(len(text)):\n",
    "    for i in range(len(text[j])):\n",
    "        transcription = text[j][i]\n",
    "        transcription = re.sub(r'\\[.*?\\]', '', transcription)\n",
    "        transcription = transcription.replace('[', '').replace(']', '')\n",
    "\n",
    "        transcription = re.sub(r'\\s+', ' ', transcription)\n",
    "\n",
    "        text[j][i] = transcription\n",
    "    \n",
    "\n",
    "dataset['train'] = dataset['train'].add_column(name='text', column=text)\n",
    "\n",
    "dataset['train']['text'][0]\n",
    "dataset = dataset['train'].train_test_split(test_size=0.2)\n",
    "\n",
    "text\n",
    "\n",
    "dataset.push_to_hub('rodoggx/ATCO2-ASR-1h')"
   ]
  }
 ],
 "metadata": {
  "kernelspec": {
   "display_name": "venv",
   "language": "python",
   "name": "python3"
  },
  "language_info": {
   "codemirror_mode": {
    "name": "ipython",
    "version": 3
   },
   "file_extension": ".py",
   "mimetype": "text/x-python",
   "name": "python",
   "nbconvert_exporter": "python",
   "pygments_lexer": "ipython3",
   "version": "3.11.0rc1"
  }
 },
 "nbformat": 4,
 "nbformat_minor": 2
}
