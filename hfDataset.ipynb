{
 "cells": [
  {
   "cell_type": "code",
   "execution_count": 2,
   "metadata": {},
   "outputs": [],
   "source": [
    "from datasets import load_dataset, Dataset\n",
    "from bs4 import BeautifulSoup\n",
    "import re"
   ]
  },
  {
   "cell_type": "markdown",
   "metadata": {},
   "source": [
    "## Uploading Noisy Dataset"
   ]
  },
  {
   "cell_type": "code",
   "execution_count": 6,
   "metadata": {},
   "outputs": [
    {
     "data": {
      "application/vnd.jupyter.widget-view+json": {
       "model_id": "d7d5aa8b452e45a9a4782c88400a1954",
       "version_major": 2,
       "version_minor": 0
      },
      "text/plain": [
       "Resolving data files:   0%|          | 0/560 [00:00<?, ?it/s]"
      ]
     },
     "metadata": {},
     "output_type": "display_data"
    },
    {
     "data": {
      "application/vnd.jupyter.widget-view+json": {
       "model_id": "32e2d84c1ea34c29a4f99157d8c04bea",
       "version_major": 2,
       "version_minor": 0
      },
      "text/plain": [
       "Uploading the dataset shards:   0%|          | 0/1 [00:00<?, ?it/s]"
      ]
     },
     "metadata": {},
     "output_type": "display_data"
    },
    {
     "data": {
      "application/vnd.jupyter.widget-view+json": {
       "model_id": "375fd8d6b5e84fa9ac2d00f3bbbaf7b6",
       "version_major": 2,
       "version_minor": 0
      },
      "text/plain": [
       "Map:   0%|          | 0/448 [00:00<?, ? examples/s]"
      ]
     },
     "metadata": {},
     "output_type": "display_data"
    },
    {
     "data": {
      "application/vnd.jupyter.widget-view+json": {
       "model_id": "9b5571c580bc4cc2a6407e236047e56b",
       "version_major": 2,
       "version_minor": 0
      },
      "text/plain": [
       "Creating parquet from Arrow format:   0%|          | 0/5 [00:00<?, ?ba/s]"
      ]
     },
     "metadata": {},
     "output_type": "display_data"
    },
    {
     "data": {
      "application/vnd.jupyter.widget-view+json": {
       "model_id": "726e694e8a824751aa6c79c410941d0f",
       "version_major": 2,
       "version_minor": 0
      },
      "text/plain": [
       "Uploading the dataset shards:   0%|          | 0/1 [00:00<?, ?it/s]"
      ]
     },
     "metadata": {},
     "output_type": "display_data"
    },
    {
     "data": {
      "application/vnd.jupyter.widget-view+json": {
       "model_id": "153b5504b75f4558b17861ecbb782f3b",
       "version_major": 2,
       "version_minor": 0
      },
      "text/plain": [
       "Map:   0%|          | 0/112 [00:00<?, ? examples/s]"
      ]
     },
     "metadata": {},
     "output_type": "display_data"
    },
    {
     "data": {
      "application/vnd.jupyter.widget-view+json": {
       "model_id": "9c893f360d1d45e9b1c7a486e4091375",
       "version_major": 2,
       "version_minor": 0
      },
      "text/plain": [
       "Creating parquet from Arrow format:   0%|          | 0/2 [00:00<?, ?ba/s]"
      ]
     },
     "metadata": {},
     "output_type": "display_data"
    },
    {
     "data": {
      "application/vnd.jupyter.widget-view+json": {
       "model_id": "b3fd9322d5b844e9895c446839286580",
       "version_major": 2,
       "version_minor": 0
      },
      "text/plain": [
       "README.md:   0%|          | 0.00/533 [00:00<?, ?B/s]"
      ]
     },
     "metadata": {},
     "output_type": "display_data"
    },
    {
     "data": {
      "text/plain": [
       "CommitInfo(commit_url='https://huggingface.co/datasets/rodoggx/ATCO2-ASR-1h/commit/a5e8b5a2b16688023ac2e51c6e47db2377ce358d', commit_message='Upload dataset', commit_description='', oid='a5e8b5a2b16688023ac2e51c6e47db2377ce358d', pr_url=None, pr_revision=None, pr_num=None)"
      ]
     },
     "execution_count": 6,
     "metadata": {},
     "output_type": "execute_result"
    }
   ],
   "source": [
    "dataset = load_dataset('DATA')\n",
    "\n",
    "text=[]\n",
    "\n",
    "for i in dataset['train']:\n",
    "    xml = i['audio']['path'].replace('.wav', '.xml')\n",
    "    transcript = []\n",
    "    with open(xml, 'r') as f:\n",
    "        content = f.read()\n",
    "        Bs_data = BeautifulSoup(content, \"xml\")\n",
    "        b_unique = Bs_data.find_all('text')\n",
    "        for j in b_unique:\n",
    "            transcript.append(j.text)\n",
    "\n",
    "    text.append(transcript)\n",
    "\n",
    "for j in range(len(text)):\n",
    "    for i in range(len(text[j])):\n",
    "        transcription = text[j][i]\n",
    "        transcription = re.sub(r'\\[.*?\\]', '', transcription)\n",
    "        transcription = transcription.replace('[', '').replace(']', '')\n",
    "\n",
    "        transcription = re.sub(r'\\s+', ' ', transcription)\n",
    "\n",
    "        text[j][i] = transcription\n",
    "    \n",
    "\n",
    "dataset['train'] = dataset['train'].add_column(name='text', column=text)\n",
    "\n",
    "for i in range(len(text)):\n",
    "    transcription = ''\n",
    "\n",
    "    for j in text[i]:\n",
    "        transcription += j + ' '\n",
    "\n",
    "    if transcription.endswith(' '):\n",
    "        transcription = transcription[:-1]\n",
    "\n",
    "    text[i] = transcription\n",
    "\n",
    "dataset['train'] = dataset['train'].add_column(name='text Str', column=text)\n",
    "\n",
    "dataset = dataset['train'].train_test_split(test_size=0.2)\n",
    "\n",
    "dataset.push_to_hub('rodoggx/ATCO2-ASR-1h')"
   ]
  }
 ],
 "metadata": {
  "kernelspec": {
   "display_name": "venv",
   "language": "python",
   "name": "python3"
  },
  "language_info": {
   "codemirror_mode": {
    "name": "ipython",
    "version": 3
   },
   "file_extension": ".py",
   "mimetype": "text/x-python",
   "name": "python",
   "nbconvert_exporter": "python",
   "pygments_lexer": "ipython3",
   "version": "3.11.0rc1"
  }
 },
 "nbformat": 4,
 "nbformat_minor": 2
}
